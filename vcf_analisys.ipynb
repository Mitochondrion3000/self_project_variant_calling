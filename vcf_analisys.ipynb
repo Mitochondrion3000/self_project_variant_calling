{
  "cells": [
    {
      "cell_type": "markdown",
      "metadata": {
        "id": "view-in-github",
        "colab_type": "text"
      },
      "source": [
        "<a href=\"https://colab.research.google.com/github/Mitochondrion3000/self_project_variant_calling/blob/main/vcf_analisys.ipynb\" target=\"_parent\"><img src=\"https://colab.research.google.com/assets/colab-badge.svg\" alt=\"Open In Colab\"/></a>"
      ]
    },
    {
      "cell_type": "code",
      "execution_count": 168,
      "metadata": {
        "colab": {
          "base_uri": "https://localhost:8080/"
        },
        "id": "eA3oykWuoyjW",
        "outputId": "54ecfa72-f600-4a96-9274-01368f4d8133"
      },
      "outputs": [
        {
          "output_type": "stream",
          "name": "stdout",
          "text": [
            "Requirement already satisfied: cyvcf2 in /usr/local/lib/python3.11/dist-packages (0.31.1)\n",
            "Requirement already satisfied: numpy>=1.16.0 in /usr/local/lib/python3.11/dist-packages (from cyvcf2) (2.0.2)\n",
            "Requirement already satisfied: coloredlogs in /usr/local/lib/python3.11/dist-packages (from cyvcf2) (15.0.1)\n",
            "Requirement already satisfied: click in /usr/local/lib/python3.11/dist-packages (from cyvcf2) (8.1.8)\n",
            "Requirement already satisfied: humanfriendly>=9.1 in /usr/local/lib/python3.11/dist-packages (from coloredlogs->cyvcf2) (10.0)\n"
          ]
        }
      ],
      "source": [
        "pip install cyvcf2\n"
      ]
    },
    {
      "cell_type": "code",
      "execution_count": 169,
      "metadata": {
        "colab": {
          "base_uri": "https://localhost:8080/"
        },
        "id": "j2p0Wwumt3iY",
        "outputId": "865996dc-caf0-4e60-fafc-cef575f14da6"
      },
      "outputs": [
        {
          "output_type": "stream",
          "name": "stdout",
          "text": [
            "Всего вариантов: 938\n",
            "  SNPs: 474\n",
            "  INDELs: 464\n",
            "  Ti/Tv: 0.51\n",
            "  Среднее качество: 100.00\n",
            "  Гетерозиготных: 938, Гомозиготных: 0\n"
          ]
        }
      ],
      "source": [
        "from cyvcf2 import VCF\n",
        "from collections import Counter\n",
        "\n",
        "vcf = VCF(\"/content/synthetic_challenge_set3_tumor_20pctmasked_truth_NGv3.vcf\")\n",
        "\n",
        "# Счётчики\n",
        "variant_types = Counter()\n",
        "transitions = 0\n",
        "transversions = 0\n",
        "total_variants = 0\n",
        "depths = []\n",
        "qual_scores = []\n",
        "heterozygous = 0\n",
        "homozygous = 0\n",
        "\n",
        "def is_transition(ref, alt):\n",
        "    return (ref, alt) in {('A', 'G'), ('G', 'A'), ('C', 'T'), ('T', 'C')}\n",
        "\n",
        "for var in vcf:\n",
        "    total_variants += 1\n",
        "\n",
        "    # Тип варианта\n",
        "    if len(var.REF) == 1 and all(len(a) == 1 for a in var.ALT):\n",
        "        variant_types['SNP'] += 1\n",
        "        for alt in var.ALT:\n",
        "            if is_transition(var.REF, alt):\n",
        "                transitions += 1\n",
        "            else:\n",
        "                transversions += 1\n",
        "    else:\n",
        "        variant_types['INDEL'] += 1\n",
        "\n",
        "    # Качество\n",
        "    qual_scores.append(var.QUAL)\n",
        "\n",
        "    # Покрытие\n",
        "    if 'DP' in var.FORMAT:\n",
        "        dp = var.format('DP')\n",
        "        if dp is not None:\n",
        "            depths.extend(dp.flatten().tolist())\n",
        "\n",
        "    # Гено-тип (0/1 гетеро, 1/1 гомо и т.п.)\n",
        "    if 'GT' in var.FORMAT:\n",
        "        gt = var.genotypes[0][:2]  # только первый сэмпл\n",
        "        if gt[0] != gt[1]:\n",
        "            heterozygous += 1\n",
        "        elif gt[0] == gt[1]:\n",
        "            homozygous += 1\n",
        "\n",
        "# Вывод результатов\n",
        "print(f\"Всего вариантов: {total_variants}\")\n",
        "print(f\"  SNPs: {variant_types['SNP']}\")\n",
        "print(f\"  INDELs: {variant_types['INDEL']}\")\n",
        "print(f\"  Ti/Tv: {transitions / transversions:.2f}\" if transversions > 0 else \"Ti/Tv: inf\")\n",
        "print(f\"  Среднее качество: {sum(qual_scores) / len(qual_scores):.2f}\")\n",
        "# print(f\"  Средняя глубина: {sum(depths) / len(depths):.2f}\")\n",
        "print(f\"  Гетерозиготных: {heterozygous}, Гомозиготных: {homozygous}\")\n"
      ]
    },
    {
      "cell_type": "markdown",
      "metadata": {
        "id": "vJXxHkU6KQSE"
      },
      "source": [
        "выше вывел неоторые статистики а про некоторые еще предстоит узнать\n",
        "| Name | Platform | Sample  | Link                                       | Number of SNVs | Number of indels | Coverage | Duplication rate (%) | Contamination | Error rate |\n",
        "|------|----------|---------|--------------------------------------------|----------------|------------------|----------|-----------------------|---------------|------------|\n",
        "| NGV3 | In silico| HCC1143 | [bcbio-nextgen](https://github.com/bcbio/bcbio-nextgen) | 474            | 464              | 40x      | 4.85                  | 1.08E−03      | 2.17E−04   |"
      ]
    },
    {
      "cell_type": "code",
      "execution_count": 170,
      "metadata": {
        "colab": {
          "base_uri": "https://localhost:8080/",
          "height": 109
        },
        "id": "wm80Vl8Hu_gY",
        "outputId": "2a196c6d-0649-438a-8a3f-db7e6d8fb26b"
      },
      "outputs": [
        {
          "output_type": "error",
          "ename": "SyntaxError",
          "evalue": "unterminated string literal (detected at line 6) (<ipython-input-170-f61f747e042a>, line 6)",
          "traceback": [
            "\u001b[0;36m  File \u001b[0;32m\"<ipython-input-170-f61f747e042a>\"\u001b[0;36m, line \u001b[0;32m6\u001b[0m\n\u001b[0;31m    \"REFtest_LoFreq\u001b[0m\n\u001b[0m    ^\u001b[0m\n\u001b[0;31mSyntaxError\u001b[0m\u001b[0;31m:\u001b[0m unterminated string literal (detected at line 6)\n"
          ]
        }
      ],
      "source": [
        "test_LoFreqmport pandas as pd\n",
        "\n",
        "def load_vcf(vcf_path):\n",
        "    variants = []\n",
        "    for variant in cyvcf2.VCF(vcf_ptest_LoFreqarianttest_LoFreq        test_LoFreqt.test_LoFreqest_LoFreqiant.POS,\n",
        "            \"REFtest_LoFreq\n",
        "            \"ALT\": variant.ALT[0],\n",
        "            \"ID\": f\"{variant.CHROM}:{variant.POS}:{variant.REF}>{variant.ALT[0]}\",\n",
        "            \"FILTER\": variant.FILTER,\n",
        "            \"INFO\": variant.INFO.get(\"VAF\", 1.0)  # Пример извлечения VAF\n",
        "        })\n",
        "    return pd.DataFrame(variants)\n",
        "\n",
        "base_snp = load_vcf(\"/content/synthetic_challenge_set3_tumor_20pctmasked_truth_NGv3.vcf\")\n",
        "test_Mutect2_filtered = load_vcf(\"/content/filtered.vcf\")\n",
        "test_Mutect2_filtered_pass = test_Mutect2_filtered[test_Mutect2_filtered['FILTER'].isnull()]\n",
        "test_LoFreq = load_vcf(\"/contest_LoFreqreq_final.vcf\")\n"
      ]
    },
    {
      "cell_type": "code",
      "execution_count": null,
      "metadata": {
        "id": "iBZEYT3NMjKg"
      },
      "outputs": [],
      "source": [
        "base_snp"
      ]
    },
    {
      "cell_type": "code",
      "execution_count": null,
      "metadata": {
        "id": "ZhX67Uv7k8-3"
      },
      "outputs": [],
      "source": [
        "test_snp_Mutect2"
      ]
    },
    {
      "cell_type": "code",
      "source": [
        "test_Mutect2_filtered.head(30)"
      ],
      "metadata": {
        "id": "uqCsivOLhdd2"
      },
      "execution_count": null,
      "outputs": []
    },
    {
      "cell_type": "code",
      "source": [
        "test_Mutect2_filtered_pass"
      ],
      "metadata": {
        "id": "DpxjHHgFjJhz"
      },
      "execution_count": null,
      "outputs": []
    },
    {
      "cell_type": "code",
      "source": [
        "test_LoFreq"
      ],
      "metadata": {
        "id": "QKcrREKahfdH"
      },
      "execution_count": null,
      "outputs": []
    },
    {
      "cell_type": "markdown",
      "metadata": {
        "id": "-XUATj3Clba1"
      },
      "source": [
        "формат хромосом у нас не очень совпалает уберем chr перед хромосомой\n"
      ]
    },
    {
      "cell_type": "code",
      "execution_count": null,
      "metadata": {
        "id": "DdFJLa7llk3u"
      },
      "outputs": [],
      "source": [
        "# Убедимся, что колонка CHROM — строка\n",
        "test_snp[\"CHROM\"] = test_snp[\"CHROM\"].astype(str)\n",
        "\n",
        "# Удаляем префикс 'chr', если он есть\n",
        "test_snp[\"CHROM\"] = test_snp[\"CHROM\"].str.replace(\"^chr\", \"\", regex=True)\n"
      ]
    },
    {
      "cell_type": "code",
      "execution_count": null,
      "metadata": {
        "id": "ca9_xvvwlqFu"
      },
      "outputs": [],
      "source": [
        "test_snp.head(2)"
      ]
    },
    {
      "cell_type": "code",
      "execution_count": null,
      "metadata": {
        "id": "7wAXUdz5T0Eq"
      },
      "outputs": [],
      "source": [
        "import pandas as pd\n",
        "from sklearn.metrics import f1_score, precision_score, recall_score\n",
        "\n",
        "# Приведение CHROM к строковому типу — важно для корректного сравнения\n",
        "true_positions = set(zip(base_snp[\"CHROM\"].astype(str), base_snp[\"POS\"]))\n",
        "predicted_positions = set(zip(test_snp[\"CHROM\"].astype(str), test_snp[\"POS\"]))\n",
        "\n",
        "# Полный список всех уникальных позиций из обоих источников\n",
        "all_positions = sorted(true_positions.union(predicted_positions), key=lambda x: (x[0], x[1]))\n",
        "\n",
        "# Бинарные метки: 1 — есть в наборе, 0 — нет\n",
        "true_labels = [1 if position in true_positions else 0 for position in all_positions]\n",
        "predicted_labels = [1 if position in predicted_positions else 0 for position in all_positions]\n",
        "\n",
        "# Создание сводного датафрейма (необязательно, но удобно для отладки)\n",
        "evaluation_df = pd.DataFrame(all_positions, columns=[\"CHROM\", \"POS\"])\n",
        "evaluation_df[\"true_label\"] = true_labels\n",
        "evaluation_df[\"predicted_label\"] = predicted_labels\n",
        "\n",
        "# Подсчёт метрик\n",
        "precision = precision_score(true_labels, predicted_labels)\n",
        "recall = recall_score(true_labels, predicted_labels)\n",
        "f1 = f1_score(true_labels, predicted_labels)\n",
        "\n",
        "print(f\"Precision: {precision:.3f}\")\n",
        "print(f\"Recall: {recall:.3f}\")\n",
        "print(f\"F1-score: {f1:.3f}\")\n"
      ]
    },
    {
      "cell_type": "code",
      "execution_count": null,
      "metadata": {
        "id": "xF_sopqqKvhb"
      },
      "outputs": [],
      "source": [
        "def calculate_metrics(truth_df, test_df):\n",
        "    all_ids = pd.Index(truth_df[\"POS\"]).union(test_df[\"POS\"])\n",
        "    y_true = all_ids.isin(truth_df[\"POS\"]).astype(int)\n",
        "    y_pred = all_ids.isin(test_df[\"POS\"]).astype(int)\n",
        "    return {\n",
        "        \"TPR\": recall_score(y_true, y_pred),\n",
        "        \"PPV\": precision_score(y_true, y_pred),\n",
        "        \"F1\": f1_score(y_true, y_pred)\n",
        "    }\n",
        "\n",
        "calculate_metrics(base_snp, test_Mutect2_filtered)"
      ]
    },
    {
      "cell_type": "code",
      "source": [
        "from sklearn.metrics import precision_score, recall_score, f1_score\n",
        "\n",
        "def calculate_metrics(truth_df, test_df, tool_name):\n",
        "    # Создаем общий набор всех позиций (для учета FP)\n",
        "    all_positions = set(truth_df[\"POS\"]).union(set(test_df[\"POS\"]))\n",
        "\n",
        "    # Бинарные вектора: 1 = вариант есть в truth, 0 = нет\n",
        "    y_true = [1 if pos in truth_df[\"POS\"].values else 0 for pos in all_positions]\n",
        "    y_pred = [1 if pos in test_df[\"POS\"].values else 0 for pos in all_positions]\n",
        "\n",
        "    return {\n",
        "        \"Tools\": tool_name,\n",
        "        \"TPR\": recall_score(y_true, y_pred),\n",
        "        \"PPV\": precision_score(y_true, y_pred, zero_division=0),\n",
        "        \"F1\": f1_score(y_true, y_pred, zero_division=0)\n",
        "    }"
      ],
      "metadata": {
        "id": "SH_KTioEqXyM"
      },
      "execution_count": null,
      "outputs": []
    },
    {
      "cell_type": "code",
      "execution_count": null,
      "metadata": {
        "id": "NpJesuNMKzYY"
      },
      "outputs": [],
      "source": [
        "# Список инструментов и их данных\n",
        "tools = {\n",
        "    \"Mutect2\": test_Mutect2_filtered,\n",
        "    \"Mutect2_filtered\": test_Mutect2_filtered_pass,\n",
        "    \"Lofreq\": test_LoFreq\n",
        "}\n",
        "\n",
        "# Расчет метрик\n",
        "results = []\n",
        "for name, df in tools.items():\n",
        "    results.append(calculate_metrics(base_snp, df, name))\n",
        "\n",
        "# Создание DataFrame\n",
        "results_df = pd.DataFrame(results)\n",
        "print(results_df)"
      ]
    },
    {
      "cell_type": "code",
      "source": [
        "import seaborn as sns\n",
        "import matplotlib.pyplot as plt\n",
        "\n",
        "plt.figure(figsize=(10, 6))\n",
        "sns.scatterplot(\n",
        "    data=results_df,\n",
        "    x=\"PPV\",\n",
        "    y=\"TPR\",\n",
        "    hue=\"Tools\",\n",
        "    s=200,\n",
        "    palette=\"viridis\"\n",
        ")\n",
        "plt.title(\"ROC Analysis (Python)\")\n",
        "plt.xlabel(\"Precision (PPV)\")\n",
        "plt.ylabel(\"Recall (TPR)\")\n",
        "plt.legend(bbox_to_anchor=(1.05, 1))\n",
        "plt.show()"
      ],
      "metadata": {
        "id": "3UvgOQ89sq8H"
      },
      "execution_count": null,
      "outputs": []
    },
    {
      "cell_type": "markdown",
      "source": [
        "Дальше проанализируем snp отдельно, а vcf отдельно\n"
      ],
      "metadata": {
        "id": "rUHke7xIsfK-"
      }
    },
    {
      "cell_type": "code",
      "execution_count": null,
      "metadata": {
        "id": "UDiW1aYwLbnl"
      },
      "outputs": [],
      "source": [
        "\n",
        "def split_snp_indel(df):\n",
        "    \"\"\"\n",
        "    Разделяет датафрейм на SNP и INDEL по длине REF и ALT.\n",
        "    Ожидает наличие столбцов 'REF' и 'ALT'.\n",
        "\n",
        "    Аргументы:\n",
        "        df (pd.DataFrame): исходный датафрейм\n",
        "\n",
        "    Возвращает:\n",
        "        tuple: (df_snp, df_indel)\n",
        "    \"\"\"\n",
        "    df_snp = df[(df['REF'].str.len() == 1) & (df['ALT'].str.len() == 1)].copy()\n",
        "    df_indel = df[(df['REF'].str.len() != 1) | (df['ALT'].str.len() != 1)].copy()\n",
        "    return df_snp, df_indel\n",
        "\n",
        "# Пример использования:\n",
        "# df_snp, df_indel = split_snp_indel(df)\n"
      ]
    },
    {
      "cell_type": "code",
      "source": [
        "\n",
        "test_Mutect2_filtered_pass_snp, test_Mutect2_filtered_pass_indel = split_snp_indel(test_Mutect2_filtered_pass)\n",
        "test_LoFreq_snp, test_LoFreq_indel = split_snp_indel(test_LoFreq)"
      ],
      "metadata": {
        "id": "iauIvE8CtgLQ"
      },
      "execution_count": null,
      "outputs": []
    },
    {
      "cell_type": "code",
      "source": [
        "# Список инструментов и их данных\n",
        "\n",
        "tools = {\n",
        "    \"Mutect2_filtered_snp\": test_Mutect2_filtered_pass_snp,\n",
        "    \"Mutect2_filtered_indel\": test_Mutect2_filtered_pass_indel,\n",
        "    \"LoFreq_snp\": test_LoFreq_snp,\n",
        "    \"LoFreq_indel\": test_LoFreq_indel\n",
        "}\n",
        "\n",
        "\n",
        "# Расчет метрик\n",
        "results = []\n",
        "for name, df in tools.items():\n",
        "    results.append(calculate_metrics(base_snp, df, name))\n",
        "\n",
        "# Создание DataFrame\n",
        "results_vcf_indel = pd.DataFrame(results)\n",
        "print(results_df)"
      ],
      "metadata": {
        "id": "qqgdt6bntgFF"
      },
      "execution_count": null,
      "outputs": []
    },
    {
      "cell_type": "code",
      "source": [
        "import seaborn as sns\n",
        "import matplotlib.pyplot as plt\n",
        "import pandas as pd\n",
        "import numpy as np\n",
        "\n",
        "# Добавляем столбцы для инструмента и типа варианта\n",
        "results_vcf_indel['Tool'] = results_vcf_indel['Tools'].str.replace('_snp|_indel', '', regex=True)\n",
        "results_vcf_indel['Variant_Type'] = np.where(results_vcf_indel['Tools'].str.contains('snp'), 'SNP', 'INDEL')\n",
        "\n",
        "# Создаем уникальную палитру для инструментов\n",
        "tools = results_vcf_indel['Tool'].unique()\n",
        "palette = sns.color_palette(\"husl\", len(tools))\n",
        "tool_colors = dict(zip(tools, palette))\n",
        "\n",
        "plt.figure(figsize=(12, 8))\n",
        "ax = sns.scatterplot(\n",
        "    data=results_vcf_indel,\n",
        "    x=\"PPV\",\n",
        "    y=\"TPR\",\n",
        "    hue=\"Tool\",\n",
        "    style=\"Variant_Type\",\n",
        "    s=200,\n",
        "    palette=tool_colors,\n",
        "    markers={'SNP': 'o', 'INDEL': 's'}\n",
        ")\n",
        "\n",
        "# Добавляем подписи с отступами\n",
        "for _, row in results_vcf_indel.iterrows():\n",
        "    ax.text(\n",
        "        row['PPV'] + 0.005,\n",
        "        row['TPR'] + 0.005,\n",
        "        row['Tools'],\n",
        "        horizontalalignment='left',\n",
        "        size=9,\n",
        "        color=tool_colors[row['Tool']]\n",
        "    )\n",
        "\n",
        "plt.title(\"ROC Analysis by Tool and Variant Type\", pad=20)\n",
        "plt.xlabel(\"Precision (PPV)\")\n",
        "plt.ylabel(\"Recall (TPR)\")\n",
        "plt.legend(bbox_to_anchor=(1.05, 1))\n",
        "plt.grid(True, alpha=0.3)\n",
        "plt.tight_layout()\n",
        "plt.show()"
      ],
      "metadata": {
        "id": "LXlObERlwjGV"
      },
      "execution_count": null,
      "outputs": []
    },
    {
      "cell_type": "code",
      "source": [],
      "metadata": {
        "id": "0wtnCFpNzO0R"
      },
      "execution_count": null,
      "outputs": []
    }
  ],
  "metadata": {
    "colab": {
      "provenance": [],
      "authorship_tag": "ABX9TyMYYAVzTiVuLGumnz9KkCPK",
      "include_colab_link": true
    },
    "kernelspec": {
      "display_name": "Python 3",
      "name": "python3"
    },
    "language_info": {
      "name": "python"
    }
  },
  "nbformat": 4,
  "nbformat_minor": 0
}